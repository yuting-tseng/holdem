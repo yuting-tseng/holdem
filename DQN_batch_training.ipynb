{
 "cells": [
  {
   "cell_type": "code",
   "execution_count": 1,
   "metadata": {},
   "outputs": [
    {
     "name": "stderr",
     "output_type": "stream",
     "text": [
      "Using TensorFlow backend.\n"
     ]
    }
   ],
   "source": [
    "import gym\n",
    "import holdem\n",
    "import agent"
   ]
  },
  {
   "cell_type": "code",
   "execution_count": 2,
   "metadata": {},
   "outputs": [
    {
     "name": "stdout",
     "output_type": "stream",
     "text": [
      "_________________________________________________________________\n",
      "Layer (type)                 Output Shape              Param #   \n",
      "=================================================================\n",
      "dense_1 (Dense)              (None, 1024)              388096    \n",
      "_________________________________________________________________\n",
      "dense_2 (Dense)              (None, 512)               524800    \n",
      "_________________________________________________________________\n",
      "dense_3 (Dense)              (None, 256)               131328    \n",
      "_________________________________________________________________\n",
      "dense_4 (Dense)              (None, 64)                16448     \n",
      "_________________________________________________________________\n",
      "dense_5 (Dense)              (None, 16)                1040      \n",
      "_________________________________________________________________\n",
      "dense_6 (Dense)              (None, 5)                 85        \n",
      "=================================================================\n",
      "Total params: 1,061,797\n",
      "Trainable params: 1,061,797\n",
      "Non-trainable params: 0\n",
      "_________________________________________________________________\n",
      "_________________________________________________________________\n",
      "Layer (type)                 Output Shape              Param #   \n",
      "=================================================================\n",
      "dense_7 (Dense)              (None, 1024)              388096    \n",
      "_________________________________________________________________\n",
      "dense_8 (Dense)              (None, 512)               524800    \n",
      "_________________________________________________________________\n",
      "dense_9 (Dense)              (None, 256)               131328    \n",
      "_________________________________________________________________\n",
      "dense_10 (Dense)             (None, 64)                16448     \n",
      "_________________________________________________________________\n",
      "dense_11 (Dense)             (None, 16)                1040      \n",
      "_________________________________________________________________\n",
      "dense_12 (Dense)             (None, 5)                 85        \n",
      "=================================================================\n",
      "Total params: 1,061,797\n",
      "Trainable params: 1,061,797\n",
      "Non-trainable params: 0\n",
      "_________________________________________________________________\n"
     ]
    }
   ],
   "source": [
    "model = agent.dqnModel()"
   ]
  },
  {
   "cell_type": "code",
   "execution_count": 3,
   "metadata": {},
   "outputs": [
    {
     "name": "stdout",
     "output_type": "stream",
     "text": [
      "{'loss': [17.060359954833984]}\n",
      "{'loss': [5.553599834442139]}\n",
      "{'loss': [111.15388488769531]}\n",
      "{'loss': [17.230262756347656]}\n",
      "{'loss': [24.95345687866211]}\n",
      "{'loss': [176.87289428710938]}\n",
      "{'loss': [223.6717071533203]}\n",
      "{'loss': [115.77996826171875]}\n",
      "{'loss': [19.98967170715332]}\n",
      "{'loss': [207.8154754638672]}\n",
      "{'loss': [116.76161193847656]}\n",
      "{'loss': [80.32353210449219]}\n",
      "{'loss': [106.9690933227539]}\n",
      "{'loss': [2360.24072265625]}\n",
      "{'loss': [22.78749656677246]}\n",
      "{'loss': [18.906246185302734]}\n",
      "{'loss': [6.724904537200928]}\n",
      "{'loss': [133.94992065429688]}\n"
     ]
    }
   ],
   "source": [
    "model.batchTrainModel(10)"
   ]
  },
  {
   "cell_type": "code",
   "execution_count": null,
   "metadata": {},
   "outputs": [],
   "source": []
  }
 ],
 "metadata": {
  "kernelspec": {
   "display_name": "Py36(holdem)",
   "language": "python",
   "name": "holdem-env"
  },
  "language_info": {
   "codemirror_mode": {
    "name": "ipython",
    "version": 3
   },
   "file_extension": ".py",
   "mimetype": "text/x-python",
   "name": "python",
   "nbconvert_exporter": "python",
   "pygments_lexer": "ipython3",
   "version": "3.6.3"
  }
 },
 "nbformat": 4,
 "nbformat_minor": 2
}
